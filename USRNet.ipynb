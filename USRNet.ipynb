{
  "cells": [
    {
      "cell_type": "markdown",
      "metadata": {
        "id": "CLpUG4YPifHn"
      },
      "source": [
        "## SET UP"
      ]
    },
    {
      "cell_type": "code",
      "execution_count": null,
      "metadata": {
        "id": "Gx0HKOk9463j"
      },
      "outputs": [],
      "source": [
        "from google.colab import drive\n",
        "drive.mount('/content/gdrive')"
      ]
    },
    {
      "cell_type": "code",
      "execution_count": null,
      "metadata": {
        "id": "QuSIq9Ft5Ayx"
      },
      "outputs": [],
      "source": [
        "! git clone https://github.com/LauraMJanssen/usrnet.git\n",
        "%cd usrnet\n",
        "! pip install -r requirement.txt"
      ]
    },
    {
      "cell_type": "code",
      "source": [
        "!rm -r /content/usrnet\n",
        "%cd /content/"
      ],
      "metadata": {
        "colab": {
          "base_uri": "https://localhost:8080/"
        },
        "id": "0MdXC9AANjQ3",
        "outputId": "92dea33d-02e2-4f01-f1d7-13bb1772f716"
      },
      "execution_count": 28,
      "outputs": [
        {
          "output_type": "stream",
          "name": "stdout",
          "text": [
            "/content\n"
          ]
        }
      ]
    },
    {
      "cell_type": "code",
      "source": [
        "!pip install scikit-image"
      ],
      "metadata": {
        "id": "N_gJL6JBoBj-"
      },
      "execution_count": null,
      "outputs": []
    },
    {
      "cell_type": "markdown",
      "metadata": {
        "id": "egWGmDhA5XKK"
      },
      "source": [
        "## TRAIN \\\\\n",
        "PSNR & SSIM results are printed every 20 epochs"
      ]
    },
    {
      "cell_type": "code",
      "execution_count": null,
      "metadata": {
        "id": "Ehiibkj95Y7C"
      },
      "outputs": [],
      "source": [
        "! python main_train_psnr.py --opt options/train_usrnet.json"
      ]
    }
  ],
  "metadata": {
    "accelerator": "GPU",
    "colab": {
      "collapsed_sections": [],
      "machine_shape": "hm",
      "name": "USRNet",
      "provenance": []
    },
    "gpuClass": "standard",
    "kernelspec": {
      "display_name": "Python 3",
      "name": "python3"
    },
    "language_info": {
      "name": "python"
    }
  },
  "nbformat": 4,
  "nbformat_minor": 0
}